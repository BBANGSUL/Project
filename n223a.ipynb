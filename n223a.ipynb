{
  "cells": [
    {
      "cell_type": "markdown",
      "metadata": {
        "id": "view-in-github",
        "colab_type": "text"
      },
      "source": [
        "<a href=\"https://colab.research.google.com/github/BBANGSUL/Project/blob/main/n223a.ipynb\" target=\"_parent\"><img src=\"https://colab.research.google.com/assets/colab-badge.svg\" alt=\"Open In Colab\"/></a>"
      ]
    },
    {
      "cell_type": "markdown",
      "source": [
        "<img align=\"right\" src=\"https://ds-cs-images.s3.ap-northeast-2.amazonaws.com/Codestates_Fulllogo_Color.png\" width=100>\n",
        "\n",
        "## *AIB / SECTION 2 / SPRINT 2 / NOTE 3*\n",
        "\n",
        "# 📝 Assignment\n",
        "---"
      ],
      "metadata": {
        "id": "gBPjWzawr6GM"
      }
    },
    {
      "cell_type": "markdown",
      "source": [
        "# Evaluation Metrics for Classification\n",
        "\n",
        "### 1) Kaggle 챌린지를 이어서 진행합니다.\n",
        "- **(Urclass Quiz) 다음 조건에서 F beta score를 구하고 제출하세요.**\n",
        "    - TP = 4442, TN = 6165, FP = 1515, FN = 1930, 재현율에 정밀도의 2배 가중치를 부여합니다."
      ],
      "metadata": {
        "id": "nCc3XZEyG3XV"
      }
    },
    {
      "cell_type": "code",
      "source": [
        "!pip install category_encoders"
      ],
      "metadata": {
        "id": "luMHuaPCxYO7",
        "outputId": "af5215f7-a4b9-451e-a486-3f262a08fba2",
        "colab": {
          "base_uri": "https://localhost:8080/"
        }
      },
      "execution_count": null,
      "outputs": [
        {
          "output_type": "stream",
          "name": "stdout",
          "text": [
            "Looking in indexes: https://pypi.org/simple, https://us-python.pkg.dev/colab-wheels/public/simple/\n",
            "Requirement already satisfied: category_encoders in /usr/local/lib/python3.7/dist-packages (2.5.0)\n",
            "Requirement already satisfied: patsy>=0.5.1 in /usr/local/lib/python3.7/dist-packages (from category_encoders) (0.5.2)\n",
            "Requirement already satisfied: scikit-learn>=0.20.0 in /usr/local/lib/python3.7/dist-packages (from category_encoders) (1.0.2)\n",
            "Requirement already satisfied: scipy>=1.0.0 in /usr/local/lib/python3.7/dist-packages (from category_encoders) (1.4.1)\n",
            "Requirement already satisfied: pandas>=1.0.5 in /usr/local/lib/python3.7/dist-packages (from category_encoders) (1.3.5)\n",
            "Requirement already satisfied: statsmodels>=0.9.0 in /usr/local/lib/python3.7/dist-packages (from category_encoders) (0.10.2)\n",
            "Requirement already satisfied: numpy>=1.14.0 in /usr/local/lib/python3.7/dist-packages (from category_encoders) (1.21.6)\n",
            "Requirement already satisfied: pytz>=2017.3 in /usr/local/lib/python3.7/dist-packages (from pandas>=1.0.5->category_encoders) (2022.1)\n",
            "Requirement already satisfied: python-dateutil>=2.7.3 in /usr/local/lib/python3.7/dist-packages (from pandas>=1.0.5->category_encoders) (2.8.2)\n",
            "Requirement already satisfied: six in /usr/local/lib/python3.7/dist-packages (from patsy>=0.5.1->category_encoders) (1.15.0)\n",
            "Requirement already satisfied: joblib>=0.11 in /usr/local/lib/python3.7/dist-packages (from scikit-learn>=0.20.0->category_encoders) (1.1.0)\n",
            "Requirement already satisfied: threadpoolctl>=2.0.0 in /usr/local/lib/python3.7/dist-packages (from scikit-learn>=0.20.0->category_encoders) (3.1.0)\n"
          ]
        }
      ]
    },
    {
      "cell_type": "code",
      "execution_count": null,
      "source": [
        "tp = 4442\n",
        "tn = 6165\n",
        "fp = 1515\n",
        "fn = 1930\n",
        "beta = 2\n",
        "\n",
        "precision = tp / (tp + fp)\n",
        "recall = tp / (tp + fn)\n",
        "\n",
        "fbeta = ((1 + beta ** 2) * precision * recall) / ((beta ** 2) * precision + recall)\n",
        "\n",
        "fbeta"
      ],
      "outputs": [
        {
          "output_type": "execute_result",
          "data": {
            "text/plain": [
              "0.7063126093178567"
            ]
          },
          "metadata": {},
          "execution_count": 22
        }
      ],
      "metadata": {
        "id": "aL6SFHhcr6GU",
        "outputId": "8fedfe54-ab0e-4b4d-8df9-a9d68a8af130",
        "colab": {
          "base_uri": "https://localhost:8080/"
        }
      }
    },
    {
      "cell_type": "markdown",
      "source": [
        "### 2) 모델을 학습한 후 Confusion matrix를 그리고 해석하세요\n",
        "- 임계값을 조정한 후 confusion matrix를 그려보세요\n",
        "- **(Urclass Quiz) 임계값을 증가시킬때 positive 범주의 재현율 변화 중 올바른 설명을 고르세요.**\n",
        "    1. 증가\n",
        "    2. 감소\n",
        "    3. 변화가 없다\n"
      ],
      "metadata": {
        "id": "3bl4k6lbr6GW"
      }
    },
    {
      "cell_type": "code",
      "execution_count": null,
      "source": [
        "import pandas as pd\n",
        "import numpy as np\n",
        "import warnings\n",
        "from google.colab import files\n",
        "from sklearn.model_selection import train_test_split\n",
        "from category_encoders import OrdinalEncoder\n",
        "from sklearn.impute import SimpleImputer\n",
        "from sklearn.pipeline import make_pipeline\n",
        "from sklearn.linear_model import LogisticRegression\n",
        "from sklearn.metrics import plot_confusion_matrix\n",
        "from sklearn.metrics import accuracy_score\n",
        "from sklearn.ensemble import RandomForestClassifier\n",
        "import matplotlib.pyplot as plt"
      ],
      "outputs": [],
      "metadata": {
        "id": "n8qoZuPMr6GX"
      }
    },
    {
      "cell_type": "code",
      "source": [
        "warnings.filterwarnings('ignore')"
      ],
      "metadata": {
        "id": "wYMF1C-XxmXd"
      },
      "execution_count": null,
      "outputs": []
    },
    {
      "cell_type": "code",
      "source": [
        "from google.colab import drive\n",
        "drive.mount('/content/drive')"
      ],
      "metadata": {
        "id": "hqwzyTd7xqXF",
        "outputId": "be422262-c366-4b9b-b5bd-1840664e03c5",
        "colab": {
          "base_uri": "https://localhost:8080/"
        }
      },
      "execution_count": null,
      "outputs": [
        {
          "output_type": "stream",
          "name": "stdout",
          "text": [
            "Drive already mounted at /content/drive; to attempt to forcibly remount, call drive.mount(\"/content/drive\", force_remount=True).\n"
          ]
        }
      ]
    },
    {
      "cell_type": "code",
      "source": [
        "train = pd.read_csv('/content/drive/MyDrive/data/kaggle/train.csv')\n",
        "test = pd.read_csv('/content/drive/MyDrive/data/kaggle/test.csv')\n",
        "labels = pd.read_csv('/content/drive/MyDrive/data/kaggle/train_labels.csv')\n",
        "submission = pd.read_csv('/content/drive/MyDrive/data/kaggle/submission.csv')"
      ],
      "metadata": {
        "id": "LlhAJFaAx2PP"
      },
      "execution_count": null,
      "outputs": []
    },
    {
      "cell_type": "code",
      "source": [
        "labels = labels['vacc_h1n1_f']"
      ],
      "metadata": {
        "id": "OfUv4I9NyXV9"
      },
      "execution_count": null,
      "outputs": []
    },
    {
      "cell_type": "code",
      "source": [
        "x_train, x_val, y_train, y_val = train_test_split(train, labels, train_size = 0.8, test_size = 0.2, random_state = 1)\n",
        "x_train, x_test, y_train, y_test = train_test_split(x_train, y_train, train_size = 0.8, test_size = 0.2, random_state = 1)"
      ],
      "metadata": {
        "id": "MgBsLpKByhDD"
      },
      "execution_count": null,
      "outputs": []
    },
    {
      "cell_type": "code",
      "source": [
        "pipe1 = make_pipeline(\n",
        "    OrdinalEncoder(),\n",
        "    SimpleImputer(),\n",
        "    RandomForestClassifier(n_estimators = 100, n_jobs=-1, random_state=10, max_depth=None, oob_score=True)\n",
        ")"
      ],
      "metadata": {
        "id": "HoW9c6b3y5JI"
      },
      "execution_count": null,
      "outputs": []
    },
    {
      "cell_type": "code",
      "source": [
        "pipe1.fit(x_train, y_train)\n",
        "y_pred = pipe1.predict(x_val)\n",
        "accuracy_score(y_val, y_pred)"
      ],
      "metadata": {
        "id": "ERBO7pAfZxhU",
        "colab": {
          "base_uri": "https://localhost:8080/"
        },
        "outputId": "870296aa-d31e-4b3e-bafe-f16ac175d5b6"
      },
      "execution_count": null,
      "outputs": [
        {
          "output_type": "execute_result",
          "data": {
            "text/plain": [
              "0.8146127387024078"
            ]
          },
          "metadata": {},
          "execution_count": 30
        }
      ]
    },
    {
      "cell_type": "code",
      "source": [
        "fig, ax = plt.subplots()\n",
        "pcm = plot_confusion_matrix(pipe1, x_val, y_val, cmap = plt.cm.Blues, ax = ax)\n",
        "plt.show()"
      ],
      "metadata": {
        "id": "5XPz8VVcxgLV",
        "outputId": "450a700c-07c0-41ee-d745-6e125fea4cd9",
        "colab": {
          "base_uri": "https://localhost:8080/",
          "height": 282
        }
      },
      "execution_count": null,
      "outputs": [
        {
          "output_type": "display_data",
          "data": {
            "text/plain": [
              "<Figure size 432x288 with 2 Axes>"
            ],
            "image/png": "[encoded data removed]"
          },
          "metadata": {
            "needs_background": "light"
          }
        }
      ]
    },
    {
      "cell_type": "code",
      "source": [
        "pipe1.classes_"
      ],
      "metadata": {
        "id": "OFMIorCh016F",
        "outputId": "df70cc0f-a5c2-4c58-a6f2-431a59703946",
        "colab": {
          "base_uri": "https://localhost:8080/"
        }
      },
      "execution_count": null,
      "outputs": [
        {
          "output_type": "execute_result",
          "data": {
            "text/plain": [
              "array([0, 1])"
            ]
          },
          "metadata": {},
          "execution_count": 32
        }
      ]
    },
    {
      "cell_type": "code",
      "source": [
        "pipe1.predict(x_val)"
      ],
      "metadata": {
        "id": "0V8AzbWR1cL3",
        "outputId": "fe681887-13f2-4302-8d3f-fe0798eda265",
        "colab": {
          "base_uri": "https://localhost:8080/"
        }
      },
      "execution_count": null,
      "outputs": [
        {
          "output_type": "execute_result",
          "data": {
            "text/plain": [
              "array([0, 0, 0, ..., 0, 0, 1])"
            ]
          },
          "metadata": {},
          "execution_count": 33
        }
      ]
    },
    {
      "cell_type": "code",
      "source": [
        "pipe1.predict_proba(x_val)"
      ],
      "metadata": {
        "id": "UVG7e0si1egN",
        "outputId": "f62e2a84-fc35-40bd-fafc-18992bc5c934",
        "colab": {
          "base_uri": "https://localhost:8080/"
        }
      },
      "execution_count": null,
      "outputs": [
        {
          "output_type": "execute_result",
          "data": {
            "text/plain": [
              "array([[1.        , 0.        ],\n",
              "       [1.        , 0.        ],\n",
              "       [0.6       , 0.4       ],\n",
              "       ...,\n",
              "       [0.7       , 0.3       ],\n",
              "       [0.8       , 0.2       ],\n",
              "       [0.36666667, 0.63333333]])"
            ]
          },
          "metadata": {},
          "execution_count": 34
        }
      ]
    },
    {
      "cell_type": "code",
      "source": [
        "y_pred_proba = pipe1.predict_proba(x_val)[:, 1]\n",
        "y_pred_proba"
      ],
      "metadata": {
        "id": "xtVmxsu41iNR",
        "outputId": "5e42b094-17cf-4522-9c59-4ab85346b4a3",
        "colab": {
          "base_uri": "https://localhost:8080/"
        }
      },
      "execution_count": null,
      "outputs": [
        {
          "output_type": "execute_result",
          "data": {
            "text/plain": [
              "array([0.        , 0.        , 0.4       , ..., 0.3       , 0.2       ,\n",
              "       0.63333333])"
            ]
          },
          "metadata": {},
          "execution_count": 35
        }
      ]
    },
    {
      "cell_type": "code",
      "source": [
        "import seaborn as sns\n",
        "sns.displot(y_pred_proba)\n",
        "plt.show()"
      ],
      "metadata": {
        "id": "3wWu7RFC6J0j",
        "outputId": "950570a6-75c1-4048-c655-2b6efb904085",
        "colab": {
          "base_uri": "https://localhost:8080/",
          "height": 369
        }
      },
      "execution_count": null,
      "outputs": [
        {
          "output_type": "display_data",
          "data": {
            "text/plain": [
              "<Figure size 360x360 with 1 Axes>"
            ],
            "image/png": "[encoded data removed]"
          },
          "metadata": {
            "needs_background": "light"
          }
        }
      ]
    },
    {
      "cell_type": "code",
      "source": [
        "threshold = 0.5\n",
        "y_pred_proba = pipe1.predict_proba(x_val)[:, 1]\n",
        "y_pred = y_pred_proba > threshold\n",
        "\n",
        "ax = sns.histplot(y_pred_proba)\n",
        "ax.axvline(threshold, color='red')\n",
        "\n",
        "pd.Series(y_pred).value_counts()"
      ],
      "metadata": {
        "id": "1F9rR7Y46eKM",
        "outputId": "8f103aba-8761-4211-f8a0-abe058733016",
        "colab": {
          "base_uri": "https://localhost:8080/",
          "height": 320
        }
      },
      "execution_count": null,
      "outputs": [
        {
          "output_type": "execute_result",
          "data": {
            "text/plain": [
              "False    7204\n",
              "True     1227\n",
              "dtype: int64"
            ]
          },
          "metadata": {},
          "execution_count": 37
        },
        {
          "output_type": "display_data",
          "data": {
            "text/plain": [
              "<Figure size 432x288 with 1 Axes>"
            ],
            "image/png": "[encoded data removed]"
          },
          "metadata": {
            "needs_background": "light"
          }
        }
      ]
    },
    {
      "cell_type": "code",
      "source": [
        "from ipywidgets import interact, fixed\n",
        "from sklearn.metrics import classification_report\n",
        "\n",
        "def explore_threshold(y_true, y_pred_proba, threshold=0.5):\n",
        "    y_pred = y_pred_proba >= threshold\n",
        "    vc = pd.Series(y_pred).value_counts()\n",
        "    ax = sns.histplot(y_pred_proba, kde=True)\n",
        "    ax.axvline(threshold, color='red')\n",
        "    ax.set_title(f'# of target, 1={vc[1]}, 0={vc[0]}')\n",
        "    plt.show()\n",
        "    print(classification_report(y_true, y_pred))\n",
        "\n",
        "    \n",
        "interact(explore_threshold, \n",
        "    y_true=fixed(y_val), \n",
        "    y_pred_proba=fixed(y_pred_proba), \n",
        "    threshold=(0, 1, 0.01))"
      ],
      "metadata": {
        "id": "XTPCvFHI68HS",
        "outputId": "d80b143d-124b-4f57-b997-8cdab47a0849",
        "colab": {
          "base_uri": "https://localhost:8080/",
          "height": 497,
          "referenced_widgets": [
            "3c4ba881ff2942039899053cafd48571",
            "8331684362b640f48e677e9938be88d3",
            "703a057e78d54343bfd10a3fbb95beeb",
            "e81bac79870c4170b04f157d53b4575b",
            "4f65c2b76972439594bc6a99ec34ec40",
            "d8bb83cc2ec24c448536547056d416de",
            "a54ea483fa1d4338995a1f86ced09476"
          ]
        }
      },
      "execution_count": null,
      "outputs": [
        {
          "output_type": "display_data",
          "data": {
            "text/plain": [
              "interactive(children=(FloatSlider(value=0.5, description='threshold', max=1.0, step=0.01), Output()), _dom_cla…"
            ],
            "application/vnd.jupyter.widget-view+json": {
              "version_major": 2,
              "version_minor": 0,
              "model_id": "3c4ba881ff2942039899053cafd48571"
            }
          },
          "metadata": {}
        },
        {
          "output_type": "execute_result",
          "data": {
            "text/plain": [
              "<function __main__.explore_threshold>"
            ]
          },
          "metadata": {},
          "execution_count": 62
        }
      ]
    },
    {
      "cell_type": "markdown",
      "source": [
        "### 3) 랜덤포레스트의 n_estimator를 1, 10, 100, 1000으로 바꾸어 가며 positive 범주의 predict_proba를 비교해 보세요\n",
        "- 하이퍼파라미터는 다음과 같이 설정합니다.\n",
        "    - n_jobs=-1, random_state=10, max_depth=None, oob_score=True\n",
        "- **(Urclass Quiz) 확률값들의 분포의 변화를 아래 보기 중에서 고르세요**\n",
        "    1. 다양해진다\n",
        "    2. 변화가없다\n"
      ],
      "metadata": {
        "id": "aNiYqcWIr6GY"
      }
    },
    {
      "cell_type": "code",
      "execution_count": null,
      "source": [
        "for pipe1.named_steps['randomforestclassifier'].n_estimators in [1, 10, 100, 1000]:\n",
        "  pipe1.fit(x_train, y_train)\n",
        "  y_pred_proba = pipe1.predict_proba(x_val)[:, 1]\n",
        "  print('\\n', y_pred_proba)"
      ],
      "outputs": [
        {
          "output_type": "stream",
          "name": "stdout",
          "text": [
            "\n",
            " [0. 0. 1. ... 0. 1. 1.]\n",
            "\n",
            " [0.         0.         0.4        ... 0.3        0.2        0.63333333]\n",
            "\n",
            " [0.04       0.01       0.5        ... 0.2        0.1        0.58333333]\n",
            "\n",
            " [0.066      0.021      0.509      ... 0.115      0.08583333 0.55801667]\n"
          ]
        }
      ],
      "metadata": {
        "id": "Na_ABprrr6Ga",
        "outputId": "5069398b-0c61-44f4-cedd-666536e844b2",
        "colab": {
          "base_uri": "https://localhost:8080/"
        }
      }
    },
    {
      "cell_type": "markdown",
      "source": [
        "### 4) 두개 이상의 다른 분류 모델을 학습시켜 ROC curve, AUC 점수를 비교하고 설명합니다.\n",
        "- 더 좋은 결과가 나오는 모델을 사용해서 캐글에 제출하세요\n",
        "- **(Urclass Quiz) 캐글 Leaderboard의 본인 Score를 제출하세요.**"
      ],
      "metadata": {
        "id": "wC9CVv2mr6Gb"
      }
    },
    {
      "cell_type": "code",
      "execution_count": null,
      "source": [
        "from sklearn.metrics import roc_curve\n",
        "fpr, tpr, thresholds = roc_curve(y_val, y_pred_proba)"
      ],
      "outputs": [],
      "metadata": {
        "id": "rO4Otypxr6Gd"
      }
    },
    {
      "cell_type": "code",
      "source": [
        "roc = pd.DataFrame({'FPR': fpr, \n",
        "                    'TPR' : tpr, \n",
        "                    'Thresholds' : thresholds})"
      ],
      "metadata": {
        "id": "hMmoKfcYwnq2"
      },
      "execution_count": null,
      "outputs": []
    },
    {
      "cell_type": "code",
      "source": [
        "roc"
      ],
      "metadata": {
        "colab": {
          "base_uri": "https://localhost:8080/",
          "height": 424
        },
        "id": "eqPOfvGExAUc",
        "outputId": "3965780f-6a78-4096-9e28-7719b722dea8"
      },
      "execution_count": null,
      "outputs": [
        {
          "output_type": "execute_result",
          "data": {
            "text/plain": [
              "           FPR       TPR  Thresholds\n",
              "0     0.000000  0.000000    1.987000\n",
              "1     0.000156  0.000000    0.987000\n",
              "2     0.000156  0.000500    0.986367\n",
              "3     0.000311  0.000500    0.978000\n",
              "4     0.000311  0.000999    0.975633\n",
              "...        ...       ...         ...\n",
              "1551  0.998133  1.000000    0.006000\n",
              "1552  0.999067  1.000000    0.005000\n",
              "1553  0.999533  1.000000    0.004000\n",
              "1554  0.999689  1.000000    0.003000\n",
              "1555  1.000000  1.000000    0.002000\n",
              "\n",
              "[1556 rows x 3 columns]"
            ],
            "text/html": [
              "\n",
              "  <div id=\"df-8593aaea-3bc3-4a8a-b313-dccf7c9d8af2\">\n",
              "    <div class=\"colab-df-container\">\n",
              "      <div>\n",
              "<style scoped>\n",
              "    .dataframe tbody tr th:only-of-type {\n",
              "        vertical-align: middle;\n",
              "    }\n",
              "\n",
              "    .dataframe tbody tr th {\n",
              "        vertical-align: top;\n",
              "    }\n",
              "\n",
              "    .dataframe thead th {\n",
              "        text-align: right;\n",
              "    }\n",
              "</style>\n",
              "<table border=\"1\" class=\"dataframe\">\n",
              "  <thead>\n",
              "    <tr style=\"text-align: right;\">\n",
              "      <th></th>\n",
              "      <th>FPR</th>\n",
              "      <th>TPR</th>\n",
              "      <th>Thresholds</th>\n",
              "    </tr>\n",
              "  </thead>\n",
              "  <tbody>\n",
              "    <tr>\n",
              "      <th>0</th>\n",
              "      <td>0.000000</td>\n",
              "      <td>0.000000</td>\n",
              "      <td>1.987000</td>\n",
              "    </tr>\n",
              "    <tr>\n",
              "      <th>1</th>\n",
              "      <td>0.000156</td>\n",
              "      <td>0.000000</td>\n",
              "      <td>0.987000</td>\n",
              "    </tr>\n",
              "    <tr>\n",
              "      <th>2</th>\n",
              "      <td>0.000156</td>\n",
              "      <td>0.000500</td>\n",
              "      <td>0.986367</td>\n",
              "    </tr>\n",
              "    <tr>\n",
              "      <th>3</th>\n",
              "      <td>0.000311</td>\n",
              "      <td>0.000500</td>\n",
              "      <td>0.978000</td>\n",
              "    </tr>\n",
              "    <tr>\n",
              "      <th>4</th>\n",
              "      <td>0.000311</td>\n",
              "      <td>0.000999</td>\n",
              "      <td>0.975633</td>\n",
              "    </tr>\n",
              "    <tr>\n",
              "      <th>...</th>\n",
              "      <td>...</td>\n",
              "      <td>...</td>\n",
              "      <td>...</td>\n",
              "    </tr>\n",
              "    <tr>\n",
              "      <th>1551</th>\n",
              "      <td>0.998133</td>\n",
              "      <td>1.000000</td>\n",
              "      <td>0.006000</td>\n",
              "    </tr>\n",
              "    <tr>\n",
              "      <th>1552</th>\n",
              "      <td>0.999067</td>\n",
              "      <td>1.000000</td>\n",
              "      <td>0.005000</td>\n",
              "    </tr>\n",
              "    <tr>\n",
              "      <th>1553</th>\n",
              "      <td>0.999533</td>\n",
              "      <td>1.000000</td>\n",
              "      <td>0.004000</td>\n",
              "    </tr>\n",
              "    <tr>\n",
              "      <th>1554</th>\n",
              "      <td>0.999689</td>\n",
              "      <td>1.000000</td>\n",
              "      <td>0.003000</td>\n",
              "    </tr>\n",
              "    <tr>\n",
              "      <th>1555</th>\n",
              "      <td>1.000000</td>\n",
              "      <td>1.000000</td>\n",
              "      <td>0.002000</td>\n",
              "    </tr>\n",
              "  </tbody>\n",
              "</table>\n",
              "<p>1556 rows × 3 columns</p>\n",
              "</div>\n",
              "      <button class=\"colab-df-convert\" onclick=\"convertToInteractive('df-8593aaea-3bc3-4a8a-b313-dccf7c9d8af2')\"\n",
              "              title=\"Convert this dataframe to an interactive table.\"\n",
              "              style=\"display:none;\">\n",
              "        \n",
              "  <svg xmlns=\"http://www.w3.org/2000/svg\" height=\"24px\"viewBox=\"0 0 24 24\"\n",
              "       width=\"24px\">\n",
              "    <path d=\"M0 0h24v24H0V0z\" fill=\"none\"/>\n",
              "    <path d=\"M18.56 5.44l.94 2.06.94-2.06 2.06-.94-2.06-.94-.94-2.06-.94 2.06-2.06.94zm-11 1L8.5 8.5l.94-2.06 2.06-.94-2.06-.94L8.5 2.5l-.94 2.06-2.06.94zm10 10l.94 2.06.94-2.06 2.06-.94-2.06-.94-.94-2.06-.94 2.06-2.06.94z\"/><path d=\"M17.41 7.96l-1.37-1.37c-.4-.4-.92-.59-1.43-.59-.52 0-1.04.2-1.43.59L10.3 9.45l-7.72 7.72c-.78.78-.78 2.05 0 2.83L4 21.41c.39.39.9.59 1.41.59.51 0 1.02-.2 1.41-.59l7.78-7.78 2.81-2.81c.8-.78.8-2.07 0-2.86zM5.41 20L4 18.59l7.72-7.72 1.47 1.35L5.41 20z\"/>\n",
              "  </svg>\n",
              "      </button>\n",
              "      \n",
              "  <style>\n",
              "    .colab-df-container {\n",
              "      display:flex;\n",
              "      flex-wrap:wrap;\n",
              "      gap: 12px;\n",
              "    }\n",
              "\n",
              "    .colab-df-convert {\n",
              "      background-color: #E8F0FE;\n",
              "      border: none;\n",
              "      border-radius: 50%;\n",
              "      cursor: pointer;\n",
              "      display: none;\n",
              "      fill: #1967D2;\n",
              "      height: 32px;\n",
              "      padding: 0 0 0 0;\n",
              "      width: 32px;\n",
              "    }\n",
              "\n",
              "    .colab-df-convert:hover {\n",
              "      background-color: #E2EBFA;\n",
              "      box-shadow: 0px 1px 2px rgba(60, 64, 67, 0.3), 0px 1px 3px 1px rgba(60, 64, 67, 0.15);\n",
              "      fill: #174EA6;\n",
              "    }\n",
              "\n",
              "    [theme=dark] .colab-df-convert {\n",
              "      background-color: #3B4455;\n",
              "      fill: #D2E3FC;\n",
              "    }\n",
              "\n",
              "    [theme=dark] .colab-df-convert:hover {\n",
              "      background-color: #434B5C;\n",
              "      box-shadow: 0px 1px 3px 1px rgba(0, 0, 0, 0.15);\n",
              "      filter: drop-shadow(0px 1px 2px rgba(0, 0, 0, 0.3));\n",
              "      fill: #FFFFFF;\n",
              "    }\n",
              "  </style>\n",
              "\n",
              "      <script>\n",
              "        const buttonEl =\n",
              "          document.querySelector('#df-8593aaea-3bc3-4a8a-b313-dccf7c9d8af2 button.colab-df-convert');\n",
              "        buttonEl.style.display =\n",
              "          google.colab.kernel.accessAllowed ? 'block' : 'none';\n",
              "\n",
              "        async function convertToInteractive(key) {\n",
              "          const element = document.querySelector('#df-8593aaea-3bc3-4a8a-b313-dccf7c9d8af2');\n",
              "          const dataTable =\n",
              "            await google.colab.kernel.invokeFunction('convertToInteractive',\n",
              "                                                     [key], {});\n",
              "          if (!dataTable) return;\n",
              "\n",
              "          const docLinkHtml = 'Like what you see? Visit the ' +\n",
              "            '<a target=\"_blank\" href=https://colab.research.google.com/notebooks/data_table.ipynb>data table notebook</a>'\n",
              "            + ' to learn more about interactive tables.';\n",
              "          element.innerHTML = '';\n",
              "          dataTable['output_type'] = 'display_data';\n",
              "          await google.colab.output.renderOutput(dataTable, element);\n",
              "          const docLink = document.createElement('div');\n",
              "          docLink.innerHTML = docLinkHtml;\n",
              "          element.appendChild(docLink);\n",
              "        }\n",
              "      </script>\n",
              "    </div>\n",
              "  </div>\n",
              "  "
            ]
          },
          "metadata": {},
          "execution_count": 59
        }
      ]
    },
    {
      "cell_type": "code",
      "source": [
        "plt.scatter(fpr, tpr)"
      ],
      "metadata": {
        "colab": {
          "base_uri": "https://localhost:8080/",
          "height": 283
        },
        "id": "b6ToGmStxDzL",
        "outputId": "0073a434-200c-4841-c2f1-7d8b74f57885"
      },
      "execution_count": null,
      "outputs": [
        {
          "output_type": "execute_result",
          "data": {
            "text/plain": [
              "<matplotlib.collections.PathCollection at 0x7f80863a4c10>"
            ]
          },
          "metadata": {},
          "execution_count": 60
        },
        {
          "output_type": "display_data",
          "data": {
            "text/plain": [
              "<Figure size 432x288 with 1 Axes>"
            ],
            "image/png": "[encoded data removed]"
          },
          "metadata": {
            "needs_background": "light"
          }
        }
      ]
    },
    {
      "cell_type": "code",
      "source": [
        "optimal_idx = np.argmax(tpr - fpr)\n",
        "optimal_threshold = thresholds[optimal_idx]\n",
        "\n",
        "print(optimal_idx, optimal_threshold)"
      ],
      "metadata": {
        "colab": {
          "base_uri": "https://localhost:8080/"
        },
        "id": "5tZobL7gxJAa",
        "outputId": "a5685cf2-6be6-45fe-e8ba-a143dadc6109"
      },
      "execution_count": null,
      "outputs": [
        {
          "output_type": "stream",
          "name": "stdout",
          "text": [
            "1017 0.26\n"
          ]
        }
      ]
    },
    {
      "cell_type": "code",
      "source": [
        "plt.plot(tpr - fpr)"
      ],
      "metadata": {
        "colab": {
          "base_uri": "https://localhost:8080/",
          "height": 283
        },
        "id": "L2LiSrd9yRcR",
        "outputId": "ea2280b3-cc7b-4ed6-faa7-b57158695950"
      },
      "execution_count": null,
      "outputs": [
        {
          "output_type": "execute_result",
          "data": {
            "text/plain": [
              "[<matplotlib.lines.Line2D at 0x7f807fdf26d0>]"
            ]
          },
          "metadata": {},
          "execution_count": 63
        },
        {
          "output_type": "display_data",
          "data": {
            "text/plain": [
              "<Figure size 432x288 with 1 Axes>"
            ],
            "image/png": "[encoded data removed]"
          },
          "metadata": {
            "needs_background": "light"
          }
        }
      ]
    },
    {
      "cell_type": "code",
      "source": [
        "y_pred_optimal = y_pred_proba >= optimal_threshold"
      ],
      "metadata": {
        "id": "VFlMx1-QyU9t"
      },
      "execution_count": null,
      "outputs": []
    },
    {
      "cell_type": "code",
      "source": [
        "print(classification_report(y_val, y_pred_optimal))"
      ],
      "metadata": {
        "colab": {
          "base_uri": "https://localhost:8080/"
        },
        "id": "YVFZtCODycQn",
        "outputId": "45433e6f-e341-4b9b-e2b0-8b35d1f11b45"
      },
      "execution_count": null,
      "outputs": [
        {
          "output_type": "stream",
          "name": "stdout",
          "text": [
            "              precision    recall  f1-score   support\n",
            "\n",
            "           0       0.91      0.78      0.84      6429\n",
            "           1       0.51      0.76      0.61      2002\n",
            "\n",
            "    accuracy                           0.77      8431\n",
            "   macro avg       0.71      0.77      0.73      8431\n",
            "weighted avg       0.82      0.77      0.79      8431\n",
            "\n"
          ]
        }
      ]
    },
    {
      "cell_type": "code",
      "source": [
        "from sklearn.metrics import roc_auc_score\n",
        "auc_score = roc_auc_score(y_val, y_pred_proba)\n",
        "auc_score"
      ],
      "metadata": {
        "colab": {
          "base_uri": "https://localhost:8080/"
        },
        "id": "UZkcb3Jjyn6n",
        "outputId": "10a4645b-235d-4a61-8925-2ba218c376dd"
      },
      "execution_count": null,
      "outputs": [
        {
          "output_type": "execute_result",
          "data": {
            "text/plain": [
              "0.843533236090399"
            ]
          },
          "metadata": {},
          "execution_count": 73
        }
      ]
    },
    {
      "cell_type": "code",
      "source": [
        "pipe2 = make_pipeline(\n",
        "    OrdinalEncoder(),\n",
        "    SimpleImputer(),\n",
        "    LogisticRegression()\n",
        ")"
      ],
      "metadata": {
        "id": "AwIguL23zRBX"
      },
      "execution_count": null,
      "outputs": []
    },
    {
      "cell_type": "code",
      "source": [
        "pipe2.fit(x_train, y_train)"
      ],
      "metadata": {
        "colab": {
          "base_uri": "https://localhost:8080/"
        },
        "id": "JXwBm5xM0rLb",
        "outputId": "dca01612-ed5f-4661-bf0a-c094ed475d24"
      },
      "execution_count": null,
      "outputs": [
        {
          "output_type": "execute_result",
          "data": {
            "text/plain": [
              "Pipeline(steps=[('ordinalencoder',\n",
              "                 OrdinalEncoder(cols=['opinion_h1n1_vacc_effective',\n",
              "                                      'opinion_h1n1_risk',\n",
              "                                      'opinion_h1n1_sick_from_vacc',\n",
              "                                      'opinion_seas_vacc_effective',\n",
              "                                      'opinion_seas_risk',\n",
              "                                      'opinion_seas_sick_from_vacc', 'agegrp',\n",
              "                                      'employment_status', 'census_msa',\n",
              "                                      'employment_industry',\n",
              "                                      'employment_occupation', 'state'],\n",
              "                                mapping=[{'col': 'opinion_h1n1_vacc_eff...\n",
              "MASSACHUSETTS          28\n",
              "HAWAII                 29\n",
              "NEW YORK               30\n",
              "ILLINOIS               31\n",
              "DELAWARE               32\n",
              "NEVADA                 33\n",
              "FLORIDA                34\n",
              "MAINE                  35\n",
              "COLORADO               36\n",
              "CONNECTICUT            37\n",
              "LOUISIANA              38\n",
              "CALIFORNIA             39\n",
              "ALASKA                 40\n",
              "NORTH DAKOTA           41\n",
              "MISSOURI               42\n",
              "NEW JERSEY             43\n",
              "SOUTH DAKOTA           44\n",
              "GEORGIA                45\n",
              "IOWA                   46\n",
              "MINNESOTA              47\n",
              "MISSISSIPPI            48\n",
              "WEST VIRGINIA          49\n",
              "TENNESSEE              50\n",
              "ALABAMA                51\n",
              "NaN                    -2\n",
              "dtype: int64}])),\n",
              "                ('simpleimputer', SimpleImputer()),\n",
              "                ('logisticregression', LogisticRegression())])"
            ]
          },
          "metadata": {},
          "execution_count": 77
        }
      ]
    },
    {
      "cell_type": "code",
      "source": [
        "y_pred2 = pipe2.predict(x_val)\n",
        "y_pred_proba2 = pipe2.predict_proba(x_val)[:, 1]\n",
        "roc_auc_score(y_val, y_pred_proba2)"
      ],
      "metadata": {
        "colab": {
          "base_uri": "https://localhost:8080/"
        },
        "id": "jxtKRIvV0vtU",
        "outputId": "d59ccec8-1f0e-47a0-f667-c41074b821d8"
      },
      "execution_count": null,
      "outputs": [
        {
          "output_type": "execute_result",
          "data": {
            "text/plain": [
              "0.7887246133863025"
            ]
          },
          "metadata": {},
          "execution_count": 93
        }
      ]
    },
    {
      "cell_type": "code",
      "source": [
        "from sklearn.ensemble import BaggingClassifier\n",
        "\n",
        "pipe3 = make_pipeline(\n",
        "    OrdinalEncoder(),\n",
        "    SimpleImputer(),\n",
        "    BaggingClassifier(n_jobs = -1, random_state = 10)\n",
        ")"
      ],
      "metadata": {
        "id": "2nrJ7TAD03bn"
      },
      "execution_count": null,
      "outputs": []
    },
    {
      "cell_type": "code",
      "source": [
        "pipe3.fit(x_train, y_train)\n",
        "y_pred3 = pipe3.predict(x_val)\n",
        "y_pred_proba3 = pipe3.predict_proba(x_val)[:, 1]\n",
        "roc_auc_score(y_val, y_pred_proba3)"
      ],
      "metadata": {
        "colab": {
          "base_uri": "https://localhost:8080/"
        },
        "id": "xELL73w94su6",
        "outputId": "568b5294-2dd2-40e1-b8f6-93c55605197f"
      },
      "execution_count": null,
      "outputs": [
        {
          "output_type": "execute_result",
          "data": {
            "text/plain": [
              "0.802977975516473"
            ]
          },
          "metadata": {},
          "execution_count": 97
        }
      ]
    },
    {
      "cell_type": "code",
      "source": [
        "from sklearn.ensemble import GradientBoostingClassifier\n",
        "\n",
        "pipe4 = make_pipeline(\n",
        "    OrdinalEncoder(),\n",
        "    SimpleImputer(),\n",
        "    GradientBoostingClassifier(random_state = 10, learning_rate = 0.36, n_estimators = 102)\n",
        ")"
      ],
      "metadata": {
        "id": "VkgpCe9-6tfb"
      },
      "execution_count": null,
      "outputs": []
    },
    {
      "cell_type": "code",
      "source": [
        "pipe4.fit(x_train, y_train)\n",
        "y_pred4 = pipe4.predict(x_val)\n",
        "y_pred_proba4 = pipe4.predict_proba(x_val)[:, 1]\n",
        "roc_auc_score(y_val, y_pred_proba4)"
      ],
      "metadata": {
        "colab": {
          "base_uri": "https://localhost:8080/"
        },
        "id": "FNtgn0587F3R",
        "outputId": "578f915a-4c5f-424e-ca41-c4da64fffc16"
      },
      "execution_count": null,
      "outputs": [
        {
          "output_type": "execute_result",
          "data": {
            "text/plain": [
              "0.8566151145479192"
            ]
          },
          "metadata": {},
          "execution_count": 241
        }
      ]
    },
    {
      "cell_type": "code",
      "source": [
        "from xgboost import XGBClassifier\n",
        "\n",
        "pipe5 = make_pipeline(\n",
        "    OrdinalEncoder(),\n",
        "    SimpleImputer(),\n",
        "    XGBClassifier(random_state = 10, learning_rate = 0.35, max_depth = 3, n_jobs = -1, n_estimators = 100)\n",
        ")"
      ],
      "metadata": {
        "id": "Cq-TsyTd7WNN"
      },
      "execution_count": null,
      "outputs": []
    },
    {
      "cell_type": "code",
      "source": [
        "pipe5.fit(x_train, y_train)\n",
        "y_pred5 = pipe5.predict(x_val)\n",
        "y_pred_proba5 = pipe5.predict_proba(x_val)[:, 1]\n",
        "roc_auc_score(y_val, y_pred_proba5)"
      ],
      "metadata": {
        "colab": {
          "base_uri": "https://localhost:8080/"
        },
        "id": "5GgvvTXi7h10",
        "outputId": "90399909-8202-4e46-e4bc-2054a8b65794"
      },
      "execution_count": null,
      "outputs": [
        {
          "output_type": "execute_result",
          "data": {
            "text/plain": [
              "0.8571103029805782"
            ]
          },
          "metadata": {},
          "execution_count": 234
        }
      ]
    },
    {
      "cell_type": "code",
      "source": [
        "def to_submit(y_pred, pipe, test):\n",
        "  y_pred = pd.Series(pipe.predict(test))\n",
        "  y_pred.name = 'vacc_h1n1_f'\n",
        "  y_pred.index.name = 'id'\n",
        "  y_pred.to_csv('submit.csv')\n",
        "  \n",
        "  return files.download('submit.csv')"
      ],
      "metadata": {
        "id": "yEfpuiCD7pG4"
      },
      "execution_count": null,
      "outputs": []
    },
    {
      "cell_type": "code",
      "source": [
        "to_submit(y_pred4, pipe4, test)"
      ],
      "metadata": {
        "colab": {
          "base_uri": "https://localhost:8080/",
          "height": 17
        },
        "id": "dxFhK5QH98ys",
        "outputId": "b042e159-44fd-498b-fccb-0c7b8630abe6"
      },
      "execution_count": null,
      "outputs": [
        {
          "output_type": "display_data",
          "data": {
            "text/plain": [
              "<IPython.core.display.Javascript object>"
            ],
            "application/javascript": [
              "\n",
              "    async function download(id, filename, size) {\n",
              "      if (!google.colab.kernel.accessAllowed) {\n",
              "        return;\n",
              "      }\n",
              "      const div = document.createElement('div');\n",
              "      const label = document.createElement('label');\n",
              "      label.textContent = `Downloading \"${filename}\": `;\n",
              "      div.appendChild(label);\n",
              "      const progress = document.createElement('progress');\n",
              "      progress.max = size;\n",
              "      div.appendChild(progress);\n",
              "      document.body.appendChild(div);\n",
              "\n",
              "      const buffers = [];\n",
              "      let downloaded = 0;\n",
              "\n",
              "      const channel = await google.colab.kernel.comms.open(id);\n",
              "      // Send a message to notify the kernel that we're ready.\n",
              "      channel.send({})\n",
              "\n",
              "      for await (const message of channel.messages) {\n",
              "        // Send a message to notify the kernel that we're ready.\n",
              "        channel.send({})\n",
              "        if (message.buffers) {\n",
              "          for (const buffer of message.buffers) {\n",
              "            buffers.push(buffer);\n",
              "            downloaded += buffer.byteLength;\n",
              "            progress.value = downloaded;\n",
              "          }\n",
              "        }\n",
              "      }\n",
              "      const blob = new Blob(buffers, {type: 'application/binary'});\n",
              "      const a = document.createElement('a');\n",
              "      a.href = window.URL.createObjectURL(blob);\n",
              "      a.download = filename;\n",
              "      div.appendChild(a);\n",
              "      a.click();\n",
              "      div.remove();\n",
              "    }\n",
              "  "
            ]
          },
          "metadata": {}
        },
        {
          "output_type": "display_data",
          "data": {
            "text/plain": [
              "<IPython.core.display.Javascript object>"
            ],
            "application/javascript": [
              "download(\"download_b7242769-cf21-49f2-8984-1eff7962e734\", \"submit.csv\", 213737)"
            ]
          },
          "metadata": {}
        }
      ]
    },
    {
      "cell_type": "markdown",
      "source": [
        "## 🔥 도전과제(Github - Discussion)"
      ],
      "metadata": {
        "id": "UYT9d9iyr6Ge"
      }
    },
    {
      "cell_type": "markdown",
      "source": [
        "### 5) confusion matrix, classification report 등을 그려 보시고, 각 평가지표들에 대해 최대한 분석하고 precision과 recall 중 어느 것을 높이는 방향으로 모델링 해야할지 논의해 보세요. "
      ],
      "metadata": {
        "id": "LM2ZoE2wr6Gf"
      }
    },
    {
      "cell_type": "code",
      "execution_count": null,
      "source": [
        "### 이곳에서 과제를 진행해 주세요 ### "
      ],
      "outputs": [],
      "metadata": {
        "id": "Xtpi0bBHr6Gg"
      }
    }
  ],
  "metadata": {
    "kernelspec": {
      "display_name": "Python 3",
      "language": "python",
      "name": "python3"
    },
    "language_info": {
      "codemirror_mode": {
        "name": "ipython",
        "version": 3
      },
      "file_extension": ".py",
      "mimetype": "text/x-python",
      "name": "python",
      "nbconvert_exporter": "python",
      "pygments_lexer": "ipython3",
      "version": "3.7.7"
    },
    "colab": {
      "name": "n223a-evaluation-metrics-for-classification.ipynb의 사본",
      "provenance": [],
      "include_colab_link": true
    },
    "widgets": {
      "application/vnd.jupyter.widget-state+json": {
        "3c4ba881ff2942039899053cafd48571": {
          "model_module": "@jupyter-widgets/controls",
          "model_name": "VBoxModel",
          "model_module_version": "1.5.0",
          "state": {
            "_dom_classes": [
              "widget-interact"
            ],
            "_model_module": "@jupyter-widgets/controls",
            "_model_module_version": "1.5.0",
            "_model_name": "VBoxModel",
            "_view_count": null,
            "_view_module": "@jupyter-widgets/controls",
            "_view_module_version": "1.5.0",
            "_view_name": "VBoxView",
            "box_style": "",
            "children": [
              "IPY_MODEL_8331684362b640f48e677e9938be88d3",
              "IPY_MODEL_703a057e78d54343bfd10a3fbb95beeb"
            ],
            "layout": "IPY_MODEL_e81bac79870c4170b04f157d53b4575b"
          }
        },
        "8331684362b640f48e677e9938be88d3": {
          "model_module": "@jupyter-widgets/controls",
          "model_name": "FloatSliderModel",
          "model_module_version": "1.5.0",
          "state": {
            "_dom_classes": [],
            "_model_module": "@jupyter-widgets/controls",
            "_model_module_version": "1.5.0",
            "_model_name": "FloatSliderModel",
            "_view_count": null,
            "_view_module": "@jupyter-widgets/controls",
            "_view_module_version": "1.5.0",
            "_view_name": "FloatSliderView",
            "continuous_update": true,
            "description": "threshold",
            "description_tooltip": null,
            "disabled": false,
            "layout": "IPY_MODEL_4f65c2b76972439594bc6a99ec34ec40",
            "max": 1,
            "min": 0,
            "orientation": "horizontal",
            "readout": true,
            "readout_format": ".2f",
            "step": 0.01,
            "style": "IPY_MODEL_d8bb83cc2ec24c448536547056d416de",
            "value": 0.26
          }
        },
        "703a057e78d54343bfd10a3fbb95beeb": {
          "model_module": "@jupyter-widgets/output",
          "model_name": "OutputModel",
          "model_module_version": "1.0.0",
          "state": {
            "_dom_classes": [],
            "_model_module": "@jupyter-widgets/output",
            "_model_module_version": "1.0.0",
            "_model_name": "OutputModel",
            "_view_count": null,
            "_view_module": "@jupyter-widgets/output",
            "_view_module_version": "1.0.0",
            "_view_name": "OutputView",
            "layout": "IPY_MODEL_a54ea483fa1d4338995a1f86ced09476",
            "msg_id": "",
            "outputs": [
              {
                "output_type": "display_data",
                "data": {
                  "text/plain": "<Figure size 432x288 with 1 Axes>",
                  "image/png": "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\n"
                },
                "metadata": {
                  "needs_background": "light"
                }
              },
              {
                "output_type": "stream",
                "name": "stdout",
                "text": [
                  "              precision    recall  f1-score   support\n",
                  "\n",
                  "           0       0.91      0.78      0.84      6429\n",
                  "           1       0.51      0.76      0.61      2002\n",
                  "\n",
                  "    accuracy                           0.77      8431\n",
                  "   macro avg       0.71      0.77      0.73      8431\n",
                  "weighted avg       0.82      0.77      0.79      8431\n",
                  "\n"
                ]
              }
            ]
          }
        },
        "e81bac79870c4170b04f157d53b4575b": {
          "model_module": "@jupyter-widgets/base",
          "model_name": "LayoutModel",
          "model_module_version": "1.2.0",
          "state": {
            "_model_module": "@jupyter-widgets/base",
            "_model_module_version": "1.2.0",
            "_model_name": "LayoutModel",
            "_view_count": null,
            "_view_module": "@jupyter-widgets/base",
            "_view_module_version": "1.2.0",
            "_view_name": "LayoutView",
            "align_content": null,
            "align_items": null,
            "align_self": null,
            "border": null,
            "bottom": null,
            "display": null,
            "flex": null,
            "flex_flow": null,
            "grid_area": null,
            "grid_auto_columns": null,
            "grid_auto_flow": null,
            "grid_auto_rows": null,
            "grid_column": null,
            "grid_gap": null,
            "grid_row": null,
            "grid_template_areas": null,
            "grid_template_columns": null,
            "grid_template_rows": null,
            "height": null,
            "justify_content": null,
            "justify_items": null,
            "left": null,
            "margin": null,
            "max_height": null,
            "max_width": null,
            "min_height": null,
            "min_width": null,
            "object_fit": null,
            "object_position": null,
            "order": null,
            "overflow": null,
            "overflow_x": null,
            "overflow_y": null,
            "padding": null,
            "right": null,
            "top": null,
            "visibility": null,
            "width": null
          }
        },
        "4f65c2b76972439594bc6a99ec34ec40": {
          "model_module": "@jupyter-widgets/base",
          "model_name": "LayoutModel",
          "model_module_version": "1.2.0",
          "state": {
            "_model_module": "@jupyter-widgets/base",
            "_model_module_version": "1.2.0",
            "_model_name": "LayoutModel",
            "_view_count": null,
            "_view_module": "@jupyter-widgets/base",
            "_view_module_version": "1.2.0",
            "_view_name": "LayoutView",
            "align_content": null,
            "align_items": null,
            "align_self": null,
            "border": null,
            "bottom": null,
            "display": null,
            "flex": null,
            "flex_flow": null,
            "grid_area": null,
            "grid_auto_columns": null,
            "grid_auto_flow": null,
            "grid_auto_rows": null,
            "grid_column": null,
            "grid_gap": null,
            "grid_row": null,
            "grid_template_areas": null,
            "grid_template_columns": null,
            "grid_template_rows": null,
            "height": null,
            "justify_content": null,
            "justify_items": null,
            "left": null,
            "margin": null,
            "max_height": null,
            "max_width": null,
            "min_height": null,
            "min_width": null,
            "object_fit": null,
            "object_position": null,
            "order": null,
            "overflow": null,
            "overflow_x": null,
            "overflow_y": null,
            "padding": null,
            "right": null,
            "top": null,
            "visibility": null,
            "width": null
          }
        },
        "d8bb83cc2ec24c448536547056d416de": {
          "model_module": "@jupyter-widgets/controls",
          "model_name": "SliderStyleModel",
          "model_module_version": "1.5.0",
          "state": {
            "_model_module": "@jupyter-widgets/controls",
            "_model_module_version": "1.5.0",
            "_model_name": "SliderStyleModel",
            "_view_count": null,
            "_view_module": "@jupyter-widgets/base",
            "_view_module_version": "1.2.0",
            "_view_name": "StyleView",
            "description_width": "",
            "handle_color": null
          }
        },
        "a54ea483fa1d4338995a1f86ced09476": {
          "model_module": "@jupyter-widgets/base",
          "model_name": "LayoutModel",
          "model_module_version": "1.2.0",
          "state": {
            "_model_module": "@jupyter-widgets/base",
            "_model_module_version": "1.2.0",
            "_model_name": "LayoutModel",
            "_view_count": null,
            "_view_module": "@jupyter-widgets/base",
            "_view_module_version": "1.2.0",
            "_view_name": "LayoutView",
            "align_content": null,
            "align_items": null,
            "align_self": null,
            "border": null,
            "bottom": null,
            "display": null,
            "flex": null,
            "flex_flow": null,
            "grid_area": null,
            "grid_auto_columns": null,
            "grid_auto_flow": null,
            "grid_auto_rows": null,
            "grid_column": null,
            "grid_gap": null,
            "grid_row": null,
            "grid_template_areas": null,
            "grid_template_columns": null,
            "grid_template_rows": null,
            "height": null,
            "justify_content": null,
            "justify_items": null,
            "left": null,
            "margin": null,
            "max_height": null,
            "max_width": null,
            "min_height": null,
            "min_width": null,
            "object_fit": null,
            "object_position": null,
            "order": null,
            "overflow": null,
            "overflow_x": null,
            "overflow_y": null,
            "padding": null,
            "right": null,
            "top": null,
            "visibility": null,
            "width": null
          }
        }
      }
    }
  },
  "nbformat": 4,
  "nbformat_minor": 0
}